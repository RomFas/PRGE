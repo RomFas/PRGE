{
 "cells": [
  {
   "cell_type": "markdown",
   "metadata": {},
   "source": [
    "# Triple Classification Evaluation"
   ]
  },
  {
   "cell_type": "markdown",
   "metadata": {},
   "source": [
    "Necessary imports:"
   ]
  },
  {
   "cell_type": "code",
   "execution_count": 1,
   "metadata": {},
   "outputs": [],
   "source": [
    "import pickle\n",
    "import matplotlib.pyplot as plt\n",
    "from scipy.sparse import coo_matrix, lil_matrix, csr_matrix, csc_matrix, hstack, vstack\n",
    "from tqdm import tqdm, tqdm_notebook\n",
    "import os\n",
    "from random import random, randint\n",
    "import gc\n",
    "from pympler import asizeof\n",
    "import sys\n",
    "from datetime import datetime\n",
    "import signal\n",
    "import pandas as pd\n",
    "import numpy as np\n",
    "from itertools import chain\n",
    "from sklearn import preprocessing"
   ]
  },
  {
   "cell_type": "markdown",
   "metadata": {},
   "source": [
    "Import specific dataset:"
   ]
  },
  {
   "cell_type": "code",
   "execution_count": 2,
   "metadata": {},
   "outputs": [],
   "source": [
    "dataset = \"WN18\"\n",
    "os.chdir('..')\n",
    "dataset_wd = os.getcwd() + \"/data/\" + dataset\n",
    "noise = \"10\""
   ]
  },
  {
   "cell_type": "markdown",
   "metadata": {},
   "source": [
    "Load entity-to-id and relation-to-id directories:"
   ]
  },
  {
   "cell_type": "code",
   "execution_count": 3,
   "metadata": {},
   "outputs": [],
   "source": [
    "f = open(dataset_wd + \"/relation2id.txt\",\"r\")\n",
    "relation2id = {}\n",
    "id2relation = {}\n",
    "relation_num = 0\n",
    "for line in f:\n",
    "    seg = line.strip().split()\n",
    "    relation2id[seg[0]] = int(seg[1])\n",
    "    id2relation[int(seg[1])] = seg[0]\n",
    "    relation_num += 1\n",
    "f.close()"
   ]
  },
  {
   "cell_type": "code",
   "execution_count": 4,
   "metadata": {},
   "outputs": [],
   "source": [
    "f = open(dataset_wd + \"/entity2id.txt\",\"r\")\n",
    "entity2id = {}\n",
    "for line in f:\n",
    "    seg = line.strip().split()\n",
    "    entity2id[seg[0]] = int(seg[1])\n",
    "f.close()"
   ]
  },
  {
   "cell_type": "markdown",
   "metadata": {},
   "source": [
    "Load validation set (for threshold definition) and test set for evaluation:"
   ]
  },
  {
   "cell_type": "code",
   "execution_count": 5,
   "metadata": {},
   "outputs": [],
   "source": [
    "train_dt_pos = pd.read_csv(dataset_wd + \"/test.txt\", sep = '\\t', header = None, dtype=str)\n",
    "train_dt_pos.columns = [\"e1\", \"e2\", \"r\"]\n",
    "\n",
    "train_dt_neg = pd.read_csv(dataset_wd + \"/neg_triples_test.txt\", sep = '\\t', header = None, dtype=str)\n",
    "train_dt_neg.columns = [\"e1\", \"e2\", \"r\"]"
   ]
  },
  {
   "cell_type": "code",
   "execution_count": 6,
   "metadata": {},
   "outputs": [],
   "source": [
    "valid_dt_pos = pd.read_csv(dataset_wd + \"/valid.txt\", sep = '\\t', header = None, dtype=str)\n",
    "valid_dt_pos.columns = [\"e1\", \"e2\", \"r\"]\n",
    "\n",
    "valid_dt_neg = pd.read_csv(dataset_wd + \"/neg_triples_valid.txt\", sep = '\\t', header = None, dtype=str)\n",
    "valid_dt_neg.columns = [\"e1\", \"e2\", \"r\"]"
   ]
  },
  {
   "cell_type": "markdown",
   "metadata": {},
   "source": [
    "Load embeddings:"
   ]
  },
  {
   "cell_type": "code",
   "execution_count": 7,
   "metadata": {},
   "outputs": [],
   "source": [
    "TransE_relation_emb = np.loadtxt(os.getcwd() + \"/TransE/\" + dataset + \"_Embeddings/relation2vec\"+noise+\"_l_0.01\")\n",
    "TransE_entity_emb = np.loadtxt(os.getcwd() + \"/TransE/\" + dataset + \"_Embeddings/entity2vec\"+noise+\"_l_0.01\")\n",
    "\n",
    "PTransE_relation_emb = np.loadtxt(os.getcwd() + \"/PTransE/PTransE_add/\" + dataset + \"_Embeddings/relation2vec\"+noise+\"_l_0.01\")\n",
    "PTransE_entity_emb = np.loadtxt(os.getcwd() + \"/PTransE/PTransE_add/\" + dataset + \"_Embeddings/entity2vec\"+noise+\"_l_0.01\")\n",
    "\n",
    "CKRL_relation_emb = np.loadtxt(os.getcwd() + \"/CKRL/\" + dataset + \"_Embeddings/relation2vec\"+noise+\"_l_0.01\")\n",
    "CKRL_entity_emb = np.loadtxt(os.getcwd() + \"/CKRL/\" + dataset + \"_Embeddings/entity2vec\"+noise+\"_l_0.01\")\n",
    "\n",
    "PRGE_scaled_relation_emb = np.loadtxt(os.getcwd() + \"/PaTyBRED-TransE/\" + dataset + \"_Embeddings/relation2vec\"+noise+\"_l_0.01_lambda_5\")\n",
    "PRGE_scaled_entity_emb = np.loadtxt(os.getcwd() + \"/PaTyBRED-TransE/\" + dataset + \"_Embeddings/entity2vec\"+noise+\"_l_0.01_lambda_5\")\n",
    "\n",
    "PRGE_relation_emb = np.loadtxt(os.getcwd() + \"/PaTyBRED-TransE/\" + dataset + \"_Embeddings/relation2vec\"+noise+\"_l_0.01_lambda_1\")\n",
    "PRGE_entity_emb = np.loadtxt(os.getcwd() + \"/PaTyBRED-TransE/\" + dataset + \"_Embeddings/entity2vec\"+noise+\"_l_0.01_lambda_1\")"
   ]
  },
  {
   "cell_type": "markdown",
   "metadata": {},
   "source": [
    "Routines for normalization and threshold definition:"
   ]
  },
  {
   "cell_type": "code",
   "execution_count": 8,
   "metadata": {},
   "outputs": [],
   "source": [
    "def find_threshold_value(df, column, labels):\n",
    "    \n",
    "    y_true = df[labels].values\n",
    "    scores = df[column].values\n",
    "    thresholds = np.linspace(0.01, 0.99, num=98)\n",
    "    max_acc = 0\n",
    "    final_threshold = 0.0\n",
    "    for t in thresholds:\n",
    "        y_pred = scores > t\n",
    "        acc = sum(y_true == y_pred)\n",
    "        if acc > max_acc:\n",
    "            max_acc = acc\n",
    "            final_threshold = t\n",
    "    return final_threshold"
   ]
  },
  {
   "cell_type": "code",
   "execution_count": 9,
   "metadata": {},
   "outputs": [],
   "source": [
    "def normalize(df, column):\n",
    "    x = df[column]\n",
    "    min_max_scaler = preprocessing.MinMaxScaler()\n",
    "    x_scaled = min_max_scaler.fit_transform(np.asarray(x).reshape(-1, 1))\n",
    "    df[column] = 1-x_scaled\n",
    "    return df"
   ]
  },
  {
   "cell_type": "markdown",
   "metadata": {},
   "source": [
    "#### Finding classification threshold from validation set:"
   ]
  },
  {
   "cell_type": "code",
   "execution_count": 10,
   "metadata": {},
   "outputs": [],
   "source": [
    "thres_TransE = []\n",
    "thres_PTransE = []\n",
    "thres_CKRL = []\n",
    "thres_PRGE = []\n",
    "thres_PRGE_scaled = []"
   ]
  },
  {
   "cell_type": "code",
   "execution_count": 11,
   "metadata": {},
   "outputs": [
    {
     "name": "stderr",
     "output_type": "stream",
     "text": [
      "100%|██████████| 18/18 [00:15<00:00,  2.59it/s]\n"
     ]
    }
   ],
   "source": [
    "pbar = tqdm(total=(relation_num))\n",
    "for r in range(relation_num):    \n",
    "    subset_valid_by_relation_pos = valid_dt_pos[valid_dt_pos[\"r\"] == id2relation[r]]\n",
    "    if subset_valid_by_relation_pos.empty == False:\n",
    "        entities1_pos = np.asarray(subset_valid_by_relation_pos['e1'].apply(lambda x: entity2id[x]))\n",
    "        entities2_pos = np.asarray(subset_valid_by_relation_pos['e2'].apply(lambda x: entity2id[x]))\n",
    "        relations_pos = np.asarray(subset_valid_by_relation_pos['r'].apply(lambda x: relation2id[x]))\n",
    "        \n",
    "        TransE_score_pos = np.linalg.norm(TransE_entity_emb[entities1_pos, :] + TransE_relation_emb[relations_pos, :] - TransE_entity_emb[entities2_pos, :], axis = 1)\n",
    "        PTransE_score_pos = np.linalg.norm(PTransE_entity_emb[entities1_pos, :] + PTransE_relation_emb[relations_pos, :] - PTransE_entity_emb[entities2_pos, :], axis = 1)\n",
    "        CKRL_score_pos = np.linalg.norm(CKRL_entity_emb[entities1_pos, :] + CKRL_relation_emb[relations_pos, :] - CKRL_entity_emb[entities2_pos, :], axis = 1)\n",
    "        PRGE_score_pos = np.linalg.norm(PRGE_entity_emb[entities1_pos, :] + PRGE_relation_emb[relations_pos, :] - PRGE_entity_emb[entities2_pos, :], axis = 1)\n",
    "        PRGE_scaled_score_pos = np.linalg.norm(PRGE_scaled_entity_emb[entities1_pos, :] + PRGE_scaled_relation_emb[relations_pos, :] - PRGE_scaled_entity_emb[entities2_pos, :], axis = 1)\n",
    "        \n",
    "        labels_pos = np.ones(TransE_score_pos.shape[0])\n",
    "        d_pos = {'Subject': entities1_pos, 'Relation': relations_pos, 'Object': entities2_pos, 'Label': labels_pos, 'TransE_Score': TransE_score_pos, 'CKRL_Score': CKRL_score_pos, 'PTransE_Score': PTransE_score_pos, 'PRGE_Score': PRGE_score_pos, 'PRGE_Scaled_Score': PRGE_scaled_score_pos}        \n",
    "        posdt = pd.DataFrame(data=d_pos)\n",
    "    else:\n",
    "        posdt = pd.DataFrame(columns=['Subject', 'Relation', 'Object', 'Label', 'TransE_Score', 'CKRL_Score', 'PTransE_Score', 'PRGE_Score', 'PRGE_Scaled_Score'])\n",
    "    \n",
    "    subset_valid_by_relation_neg = valid_dt_neg[valid_dt_neg[\"r\"] == id2relation[r]]\n",
    "    if subset_valid_by_relation_neg.empty == False:\n",
    "        entities1_neg = np.asarray(subset_valid_by_relation_neg['e1'].apply(lambda x: entity2id[x]))\n",
    "        entities2_neg = np.asarray(subset_valid_by_relation_neg['e2'].apply(lambda x: entity2id[x]))\n",
    "        relations_neg = np.asarray(subset_valid_by_relation_neg['r'].apply(lambda x: relation2id[x]))\n",
    "        \n",
    "        TransE_score_neg = np.linalg.norm(TransE_entity_emb[entities1_neg, :] + TransE_relation_emb[relations_neg, :] - TransE_entity_emb[entities2_neg, :], axis = 1)\n",
    "        PTransE_score_neg = np.linalg.norm(PTransE_entity_emb[entities1_neg, :] + PTransE_relation_emb[relations_neg, :] - PTransE_entity_emb[entities2_neg, :], axis = 1)    \n",
    "        CKRL_score_neg = np.linalg.norm(CKRL_entity_emb[entities1_neg, :] + CKRL_relation_emb[relations_neg, :] - CKRL_entity_emb[entities2_neg, :], axis = 1)        \n",
    "        PRGE_score_neg = np.linalg.norm(PRGE_entity_emb[entities1_neg, :] + PRGE_relation_emb[relations_neg, :] - PRGE_entity_emb[entities2_neg, :], axis = 1)\n",
    "        PRGE_scaled_score_neg = np.linalg.norm(PRGE_scaled_entity_emb[entities1_neg, :] + PRGE_scaled_relation_emb[relations_neg, :] - PRGE_scaled_entity_emb[entities2_neg, :], axis = 1)\n",
    "\n",
    "        labels_neg = np.zeros(TransE_score_neg.shape[0])\n",
    "        d_neg = {'Subject': entities1_neg, 'Relation': relations_neg, 'Object': entities2_neg, 'Label': labels_neg, 'TransE_Score': TransE_score_neg, 'CKRL_Score': CKRL_score_neg, 'PTransE_Score': PTransE_score_neg, 'PRGE_Score': PRGE_score_neg, 'PRGE_Scaled_Score': PRGE_scaled_score_neg}    \n",
    "        negdt = pd.DataFrame(data=d_neg)\n",
    "    else:\n",
    "        negdt = pd.DataFrame(columns=['Subject', 'Relation', 'Object', 'Label', 'TransE_Score', 'CKRL_Score', 'PTransE_Score', 'PRGE_Score', 'PRGE_Scaled_Score'])\n",
    "        \n",
    "    whole_data = pd.concat([posdt, negdt], sort=False)\n",
    "    if whole_data.empty == False:\n",
    "        whole_data = whole_data[['Subject', 'Relation', 'Object', 'Label', 'TransE_Score', 'CKRL_Score', 'PTransE_Score', 'PRGE_Score', 'PRGE_Scaled_Score']]\n",
    "        \n",
    "        columns_to_normalize = ['TransE_Score', 'PTransE_Score', 'CKRL_Score', 'PRGE_Score', 'PRGE_Scaled_Score']\n",
    "        for column in columns_to_normalize:\n",
    "            whole_data = normalize(whole_data, column)\n",
    "    \n",
    "        thres_TransE.append(find_threshold_value(whole_data, 'TransE_Score', 'Label'))        \n",
    "        thres_PTransE.append(find_threshold_value(whole_data, 'PTransE_Score', 'Label'))\n",
    "        thres_CKRL.append(find_threshold_value(whole_data, 'CKRL_Score', 'Label'))        \n",
    "        thres_PRGE.append(find_threshold_value(whole_data, 'PRGE_Score', 'Label'))        \n",
    "        thres_PRGE_scaled.append(find_threshold_value(whole_data, 'PRGE_Scaled_Score', 'Label'))\n",
    "    else:\n",
    "        thres_TransE.append(0.0)\n",
    "        thres_PTransE.append(0.0)\n",
    "        thres_CKRL.append(0.0)\n",
    "        thres_PRGE.append(0.0)\n",
    "        thres_PRGE_scaled.append(0.0)\n",
    "    pbar.update(1)\n",
    "pbar.close()"
   ]
  },
  {
   "cell_type": "markdown",
   "metadata": {},
   "source": [
    "#### Classify on test set:"
   ]
  },
  {
   "cell_type": "code",
   "execution_count": 12,
   "metadata": {},
   "outputs": [],
   "source": [
    "acc_TransE = []\n",
    "acc_PTransE = []\n",
    "acc_CKRL = []\n",
    "acc_PRGE = []\n",
    "acc_PRGE_scaled = []"
   ]
  },
  {
   "cell_type": "code",
   "execution_count": 13,
   "metadata": {},
   "outputs": [],
   "source": [
    "def calc_accuracy(df, column, r, thres):\n",
    "    y_true = df['Label']\n",
    "    val = df[column].values\n",
    "    y_pred = val > thres[r]\n",
    "    return (float(sum(y_pred == y_true.values)) / float(len(y_pred)))"
   ]
  },
  {
   "cell_type": "code",
   "execution_count": 14,
   "metadata": {},
   "outputs": [
    {
     "name": "stderr",
     "output_type": "stream",
     "text": [
      "100%|██████████| 18/18 [00:00<00:00, 46.09it/s]\n"
     ]
    }
   ],
   "source": [
    "pbar = tqdm(total=(relation_num))\n",
    "for r in range(relation_num):\n",
    "   \n",
    "    subset_train_by_relation_pos = train_dt_pos[train_dt_pos[\"r\"] == id2relation[r]]\n",
    "    if subset_train_by_relation_pos.empty == False:\n",
    "        entities1_pos = np.asarray(subset_train_by_relation_pos['e1'].apply(lambda x: entity2id[x]))\n",
    "        entities2_pos = np.asarray(subset_train_by_relation_pos['e2'].apply(lambda x: entity2id[x]))\n",
    "        relations_pos = np.asarray(subset_train_by_relation_pos['r'].apply(lambda x: relation2id[x]))\n",
    "        \n",
    "        TransE_score_pos = np.linalg.norm(TransE_entity_emb[entities1_pos, :] + TransE_relation_emb[relations_pos, :] - TransE_entity_emb[entities2_pos, :], axis = 1)\n",
    "        PTransE_score_pos = np.linalg.norm(PTransE_entity_emb[entities1_pos, :] + PTransE_relation_emb[relations_pos, :] - PTransE_entity_emb[entities2_pos, :], axis = 1)\n",
    "        CKRL_score_pos = np.linalg.norm(CKRL_entity_emb[entities1_pos, :] + CKRL_relation_emb[relations_pos, :] - CKRL_entity_emb[entities2_pos, :], axis = 1)\n",
    "        PRGE_score_pos = np.linalg.norm(PRGE_entity_emb[entities1_pos, :] + PRGE_relation_emb[relations_pos, :] - PRGE_entity_emb[entities2_pos, :], axis = 1)\n",
    "        PRGE_scaled_score_pos = np.linalg.norm(PRGE_scaled_entity_emb[entities1_pos, :] + PRGE_scaled_relation_emb[relations_pos, :] - PRGE_scaled_entity_emb[entities2_pos, :], axis = 1)\n",
    "        \n",
    "        labels_pos = np.ones(TransE_score_pos.shape[0])\n",
    "        d_pos = {'Subject': entities1_pos, 'Relation': relations_pos, 'Object': entities2_pos, 'Label': labels_pos, 'TransE_Score': TransE_score_pos, 'CKRL_Score': CKRL_score_pos, 'PTransE_Score': PTransE_score_pos, 'PRGE_Score': PRGE_score_pos, 'PRGE_Scaled_Score': PRGE_scaled_score_pos}        \n",
    "        posdt = pd.DataFrame(data=d_pos)\n",
    "    else:\n",
    "        posdt = pd.DataFrame(columns=['Subject', 'Relation', 'Object', 'Label', 'TransE_Score', 'CKRL_Score', 'PTransE_Score', 'PRGE_Score', 'PRGE_Scaled_Score'])\n",
    "    \n",
    "    subset_train_by_relation_neg = train_dt_neg[train_dt_neg[\"r\"] == id2relation[r]]\n",
    "    if subset_train_by_relation_neg.empty == False:\n",
    "        entities1_neg = np.asarray(subset_train_by_relation_neg['e1'].apply(lambda x: entity2id[x]))\n",
    "        entities2_neg = np.asarray(subset_train_by_relation_neg['e2'].apply(lambda x: entity2id[x]))\n",
    "        relations_neg = np.asarray(subset_train_by_relation_neg['r'].apply(lambda x: relation2id[x]))\n",
    "        \n",
    "        TransE_score_neg = np.linalg.norm(TransE_entity_emb[entities1_neg, :] + TransE_relation_emb[relations_neg, :] - TransE_entity_emb[entities2_neg, :], axis = 1)\n",
    "        PTransE_score_neg = np.linalg.norm(PTransE_entity_emb[entities1_neg, :] + PTransE_relation_emb[relations_neg, :] - PTransE_entity_emb[entities2_neg, :], axis = 1)    \n",
    "        CKRL_score_neg = np.linalg.norm(CKRL_entity_emb[entities1_neg, :] + CKRL_relation_emb[relations_neg, :] - CKRL_entity_emb[entities2_neg, :], axis = 1)        \n",
    "        PRGE_score_neg = np.linalg.norm(PRGE_entity_emb[entities1_neg, :] + PRGE_relation_emb[relations_neg, :] - PRGE_entity_emb[entities2_neg, :], axis = 1)\n",
    "        PRGE_scaled_score_neg = np.linalg.norm(PRGE_scaled_entity_emb[entities1_neg, :] + PRGE_scaled_relation_emb[relations_neg, :] - PRGE_scaled_entity_emb[entities2_neg, :], axis = 1)\n",
    "\n",
    "        labels_neg = np.zeros(TransE_score_neg.shape[0])\n",
    "        d_neg = {'Subject': entities1_neg, 'Relation': relations_neg, 'Object': entities2_neg, 'Label': labels_neg, 'TransE_Score': TransE_score_neg, 'CKRL_Score': CKRL_score_neg, 'PTransE_Score': PTransE_score_neg, 'PRGE_Score': PRGE_score_neg, 'PRGE_Scaled_Score': PRGE_scaled_score_neg}    \n",
    "        negdt = pd.DataFrame(data=d_neg)\n",
    "    else:\n",
    "        negdt = pd.DataFrame(columns=['Subject', 'Relation', 'Object', 'Label', 'TransE_Score', 'CKRL_Score', 'PTransE_Score', 'PRGE_Score', 'PRGE_Scaled_Score'])\n",
    "        \n",
    "    whole_data = pd.concat([posdt, negdt], sort=False)\n",
    "    \n",
    "    if whole_data.empty == False:\n",
    "        whole_data = whole_data[['Subject', 'Relation', 'Object', 'Label', 'TransE_Score', 'CKRL_Score', 'PTransE_Score', 'PRGE_Score', 'PRGE_Scaled_Score']]\n",
    "        \n",
    "        columns_to_normalize = ['TransE_Score', 'PTransE_Score', 'CKRL_Score', 'PRGE_Score', 'PRGE_Scaled_Score']\n",
    "        for column in columns_to_normalize:\n",
    "            whole_data = normalize(whole_data, column)\n",
    "            \n",
    "        acc_TransE.append(calc_accuracy(whole_data, 'TransE_Score', r, thres_TransE))\n",
    "        acc_PTransE.append(calc_accuracy(whole_data, 'PTransE_Score', r, thres_PTransE))\n",
    "        acc_CKRL.append(calc_accuracy(whole_data, 'CKRL_Score', r, thres_CKRL))\n",
    "        acc_PRGE.append(calc_accuracy(whole_data, 'PRGE_Score', r, thres_PRGE))\n",
    "        acc_PRGE_scaled.append(calc_accuracy(whole_data, 'PRGE_Scaled_Score', r, thres_PRGE_scaled))\n",
    "        \n",
    "    pbar.update(1)\n",
    "pbar.close()"
   ]
  },
  {
   "cell_type": "code",
   "execution_count": 15,
   "metadata": {},
   "outputs": [
    {
     "name": "stdout",
     "output_type": "stream",
     "text": [
      "DATASET:\n",
      "---------------------\n",
      "TransE Accuracy:  0.8151260062068352\n",
      "PTransE Accuracy:  0.7090770265335585\n",
      "CKRL Accuracy:  0.7072278338931192\n",
      "PRGE Accuracy:  0.7836044356378734\n",
      "PRGE-Scaled Accuracy:  0.6456739456425842\n"
     ]
    }
   ],
   "source": [
    "print(\"DATASET:\")\n",
    "print('---------------------')\n",
    "print(\"TransE Accuracy: \", np.mean(acc_TransE))\n",
    "print(\"PTransE Accuracy: \", np.mean(acc_PTransE))\n",
    "print(\"CKRL Accuracy: \", np.mean(acc_CKRL))\n",
    "print(\"PRGE Accuracy: \", np.mean(acc_PRGE))\n",
    "print(\"PRGE-Scaled Accuracy: \", np.mean(acc_PRGE_scaled))"
   ]
  }
 ],
 "metadata": {
  "kernelspec": {
   "display_name": "env3.6",
   "language": "python",
   "name": "env3.6"
  },
  "language_info": {
   "codemirror_mode": {
    "name": "ipython",
    "version": 3
   },
   "file_extension": ".py",
   "mimetype": "text/x-python",
   "name": "python",
   "nbconvert_exporter": "python",
   "pygments_lexer": "ipython3",
   "version": "3.6.7"
  }
 },
 "nbformat": 4,
 "nbformat_minor": 2
}
